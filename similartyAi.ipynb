{
 "cells": [
  {
   "cell_type": "code",
   "execution_count": 1,
   "metadata": {},
   "outputs": [
    {
     "name": "stdout",
     "output_type": "stream",
     "text": [
      "Defaulting to user installation because normal site-packages is not writeable\n",
      "Requirement already satisfied: pandas in /Users/danabadarneh/Library/Python/3.9/lib/python/site-packages (2.2.3)\n",
      "Requirement already satisfied: numpy>=1.22.4 in /Users/danabadarneh/Library/Python/3.9/lib/python/site-packages (from pandas) (2.0.2)\n",
      "Requirement already satisfied: python-dateutil>=2.8.2 in /Users/danabadarneh/Library/Python/3.9/lib/python/site-packages (from pandas) (2.9.0.post0)\n",
      "Requirement already satisfied: pytz>=2020.1 in /Users/danabadarneh/Library/Python/3.9/lib/python/site-packages (from pandas) (2024.2)\n",
      "Requirement already satisfied: tzdata>=2022.7 in /Users/danabadarneh/Library/Python/3.9/lib/python/site-packages (from pandas) (2025.1)\n",
      "Requirement already satisfied: six>=1.5 in /Library/Developer/CommandLineTools/Library/Frameworks/Python3.framework/Versions/3.9/lib/python3.9/site-packages (from python-dateutil>=2.8.2->pandas) (1.15.0)\n",
      "Note: you may need to restart the kernel to use updated packages.\n"
     ]
    }
   ],
   "source": [
    "pip install pandas"
   ]
  },
  {
   "cell_type": "code",
   "execution_count": 2,
   "metadata": {},
   "outputs": [
    {
     "name": "stdout",
     "output_type": "stream",
     "text": [
      "Defaulting to user installation because normal site-packages is not writeable\n",
      "Requirement already satisfied: scikit-learn in /Users/danabadarneh/Library/Python/3.9/lib/python/site-packages (1.6.1)\n",
      "Requirement already satisfied: numpy>=1.19.5 in /Users/danabadarneh/Library/Python/3.9/lib/python/site-packages (from scikit-learn) (2.0.2)\n",
      "Requirement already satisfied: scipy>=1.6.0 in /Users/danabadarneh/Library/Python/3.9/lib/python/site-packages (from scikit-learn) (1.13.1)\n",
      "Requirement already satisfied: joblib>=1.2.0 in /Users/danabadarneh/Library/Python/3.9/lib/python/site-packages (from scikit-learn) (1.4.2)\n",
      "Requirement already satisfied: threadpoolctl>=3.1.0 in /Users/danabadarneh/Library/Python/3.9/lib/python/site-packages (from scikit-learn) (3.5.0)\n",
      "Note: you may need to restart the kernel to use updated packages.\n"
     ]
    }
   ],
   "source": [
    "pip install scikit-learn\n"
   ]
  },
  {
   "cell_type": "code",
   "execution_count": 3,
   "metadata": {},
   "outputs": [
    {
     "name": "stdout",
     "output_type": "stream",
     "text": [
      "Defaulting to user installation because normal site-packages is not writeable\n",
      "Requirement already satisfied: pandas in /Users/danabadarneh/Library/Python/3.9/lib/python/site-packages (2.2.3)\n",
      "Requirement already satisfied: scikit-learn in /Users/danabadarneh/Library/Python/3.9/lib/python/site-packages (1.6.1)\n",
      "Requirement already satisfied: numpy>=1.22.4 in /Users/danabadarneh/Library/Python/3.9/lib/python/site-packages (from pandas) (2.0.2)\n",
      "Requirement already satisfied: python-dateutil>=2.8.2 in /Users/danabadarneh/Library/Python/3.9/lib/python/site-packages (from pandas) (2.9.0.post0)\n",
      "Requirement already satisfied: pytz>=2020.1 in /Users/danabadarneh/Library/Python/3.9/lib/python/site-packages (from pandas) (2024.2)\n",
      "Requirement already satisfied: tzdata>=2022.7 in /Users/danabadarneh/Library/Python/3.9/lib/python/site-packages (from pandas) (2025.1)\n",
      "Requirement already satisfied: scipy>=1.6.0 in /Users/danabadarneh/Library/Python/3.9/lib/python/site-packages (from scikit-learn) (1.13.1)\n",
      "Requirement already satisfied: joblib>=1.2.0 in /Users/danabadarneh/Library/Python/3.9/lib/python/site-packages (from scikit-learn) (1.4.2)\n",
      "Requirement already satisfied: threadpoolctl>=3.1.0 in /Users/danabadarneh/Library/Python/3.9/lib/python/site-packages (from scikit-learn) (3.5.0)\n",
      "Requirement already satisfied: six>=1.5 in /Library/Developer/CommandLineTools/Library/Frameworks/Python3.framework/Versions/3.9/lib/python3.9/site-packages (from python-dateutil>=2.8.2->pandas) (1.15.0)\n",
      "Note: you may need to restart the kernel to use updated packages.\n"
     ]
    }
   ],
   "source": [
    "pip install --upgrade pandas scikit-learn"
   ]
  },
  {
   "cell_type": "code",
   "execution_count": 1,
   "metadata": {},
   "outputs": [
    {
     "name": "stdout",
     "output_type": "stream",
     "text": [
      "Defaulting to user installation because normal site-packages is not writeable\n",
      "Requirement already satisfied: pandas in /Users/danabadarneh/Library/Python/3.9/lib/python/site-packages (2.2.3)\n",
      "Requirement already satisfied: scikit-learn in /Users/danabadarneh/Library/Python/3.9/lib/python/site-packages (1.6.1)\n",
      "Requirement already satisfied: numpy>=1.22.4 in /Users/danabadarneh/Library/Python/3.9/lib/python/site-packages (from pandas) (2.0.2)\n",
      "Requirement already satisfied: python-dateutil>=2.8.2 in /Users/danabadarneh/Library/Python/3.9/lib/python/site-packages (from pandas) (2.9.0.post0)\n",
      "Requirement already satisfied: pytz>=2020.1 in /Users/danabadarneh/Library/Python/3.9/lib/python/site-packages (from pandas) (2024.2)\n",
      "Requirement already satisfied: tzdata>=2022.7 in /Users/danabadarneh/Library/Python/3.9/lib/python/site-packages (from pandas) (2025.1)\n",
      "Requirement already satisfied: scipy>=1.6.0 in /Users/danabadarneh/Library/Python/3.9/lib/python/site-packages (from scikit-learn) (1.13.1)\n",
      "Requirement already satisfied: joblib>=1.2.0 in /Users/danabadarneh/Library/Python/3.9/lib/python/site-packages (from scikit-learn) (1.4.2)\n",
      "Requirement already satisfied: threadpoolctl>=3.1.0 in /Users/danabadarneh/Library/Python/3.9/lib/python/site-packages (from scikit-learn) (3.5.0)\n",
      "Requirement already satisfied: six>=1.5 in /Library/Developer/CommandLineTools/Library/Frameworks/Python3.framework/Versions/3.9/lib/python3.9/site-packages (from python-dateutil>=2.8.2->pandas) (1.15.0)\n",
      "Note: you may need to restart the kernel to use updated packages.\n"
     ]
    }
   ],
   "source": [
    "pip install pandas scikit-learn"
   ]
  },
  {
   "cell_type": "code",
   "execution_count": 1,
   "metadata": {},
   "outputs": [
    {
     "name": "stdout",
     "output_type": "stream",
     "text": [
      "CSV file loaded successfully.\n",
      "Columns in the CSV file: ['students name', 'project name', 'Project supervisor', 'Graduation Year', 'Specialization', 'Technologies', ' abstract ', 'url']\n",
      "Text: creating a schedule for doctors in the computer department in an accurate manner that prevents conflict between doctors and rooms adheres to the hours specified for doctors distributes them in an appropriate manner and distributes materials over days according to their weight he also takes care to place materials that need a projector in rooms that contain that he also distinguishes between practical and theoretical rooms and\n",
      "Cosine Similarity: 1.0\n",
      "\n"
     ]
    }
   ],
   "source": [
    "import re\n",
    "import pandas as pd\n",
    "from sklearn.feature_extraction.text import TfidfVectorizer\n",
    "from sklearn.metrics.pairwise import cosine_similarity\n",
    "\n",
    "def preprocess_text(text):\n",
    "    \"\"\"Clean the text by removing punctuation and converting to lowercase.\"\"\"\n",
    "    text = re.sub(r'[^\\w\\s]', '', text)  # Remove punctuation\n",
    "    text = text.lower()  # Convert to lowercase\n",
    "    return text\n",
    "\n",
    "# Specify the path to your CSV file\n",
    "csv_file_path = '/Users/danabadarneh/Downloads/ProjectData.csv'  # Replace with your CSV file path\n",
    "\n",
    "try:\n",
    "    # Attempt to read the CSV file with a specified encoding and semicolon delimiter\n",
    "    df = pd.read_csv(csv_file_path, encoding='ISO-8859-1', delimiter=';', on_bad_lines='skip')  # Change encoding if needed\n",
    "    print(\"CSV file loaded successfully.\")\n",
    "    print(\"Columns in the CSV file:\", df.columns.tolist())\n",
    "    \n",
    "except UnicodeDecodeError as e:\n",
    "    print(f\"UnicodeDecodeError: {e}. Trying a different encoding.\")\n",
    "    try:\n",
    "        df = pd.read_csv(csv_file_path, encoding='Windows-1252', delimiter=';', on_bad_lines='skip')  # Try another encoding\n",
    "        print(\"CSV file loaded successfully with Windows-1252 encoding.\")\n",
    "        print(\"Columns in the CSV file:\", df.columns.tolist())\n",
    "    except Exception as e:\n",
    "        print(f\"Failed to read the CSV file: {e}\")\n",
    "        exit()\n",
    "except Exception as e:\n",
    "    print(f\"An error occurred: {e}\")\n",
    "    exit()\n",
    "\n",
    "# Assuming the column containing the text is named 'abstract'\n",
    "# Strip whitespace from column names\n",
    "df.columns = df.columns.str.strip()\n",
    "\n",
    "if 'abstract' in df.columns:\n",
    "    abstracts = df['abstract'].dropna().tolist()  # Get the list of abstracts, dropping NaN values\n",
    "else:\n",
    "    print(\"Column 'abstract' not found in the CSV file.\")\n",
    "    exit()\n",
    "\n",
    "# The second text to compare\n",
    "text2 = \"Creating a schedule for doctors in the computer department in an accurate manner that prevents conflict between doctors and rooms, adheres to the hours specified for doctors, distributes them in an appropriate manner, and distributes materials over days according to their weight. He also takes care to place materials that need a projector in rooms that contain that. He also distinguishes between practical and theoretical rooms and...\"\n",
    "text2 = preprocess_text(text2)  # Clean the second text\n",
    "\n",
    "# Clean the abstracts\n",
    "abstracts = [preprocess_text(abstract) for abstract in abstracts if abstract.strip()]  # Clean and filter empty abstracts\n",
    "\n",
    "if abstracts:\n",
    "    vectorizer = TfidfVectorizer()\n",
    "    \n",
    "    # Create TF-IDF matrix for the abstracts\n",
    "    tfidf_matrix = vectorizer.fit_transform(abstracts)\n",
    "\n",
    "    # Transform the second text into TF-IDF\n",
    "    tfidf_text2 = vectorizer.transform([text2])\n",
    "\n",
    "    count = 0  # Counter for texts that meet the condition\n",
    "\n",
    "    for i, text1 in enumerate(abstracts):\n",
    "        cosine_sim = cosine_similarity(tfidf_matrix[i], tfidf_text2)\n",
    "        similarity_score = cosine_sim[0][0]\n",
    "\n",
    "        if similarity_score >= 0.6:\n",
    "            print(f\"Text: {text1}\\nCosine Similarity: {similarity_score}\\n\")\n",
    "            count += 1\n",
    "\n",
    "        if count >= 5:  # Stop after finding 5 texts that meet the condition\n",
    "            break\n",
    "\n",
    "    if count == 0:\n",
    "        print(\"No texts found that exceed the specified similarity.\")\n",
    "else:\n",
    "    print(\"No abstracts available for comparison.\")"
   ]
  }
 ],
 "metadata": {
  "kernelspec": {
   "display_name": "Python 3",
   "language": "python",
   "name": "python3"
  },
  "language_info": {
   "codemirror_mode": {
    "name": "ipython",
    "version": 3
   },
   "file_extension": ".py",
   "mimetype": "text/x-python",
   "name": "python",
   "nbconvert_exporter": "python",
   "pygments_lexer": "ipython3",
   "version": "3.9.6"
  }
 },
 "nbformat": 4,
 "nbformat_minor": 2
}
